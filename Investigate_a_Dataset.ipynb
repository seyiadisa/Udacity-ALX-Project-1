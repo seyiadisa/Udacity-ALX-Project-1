{
 "cells": [
  {
   "cell_type": "markdown",
   "metadata": {},
   "source": [
    "# Project: Movies Dataset Analysis\n",
    "\n",
    "## Table of Contents\n",
    "<ul>\n",
    "<li><a href=\"#intro\">Introduction</a></li>\n",
    "<li><a href=\"#wrangling\">Data Wrangling</a></li>\n",
    "<li><a href=\"#eda\">Exploratory Data Analysis</a></li>\n",
    "<li><a href=\"#conclusions\">Conclusions</a></li>\n",
    "</ul>"
   ]
  },
  {
   "cell_type": "markdown",
   "metadata": {},
   "source": [
    "<a id='intro'></a>\n",
    "## Introduction\n",
    "\n",
    "### Dataset Description \n",
    "\n",
    "This data set contains information about 10000 movies collected from The Movie Database.\n",
    "\n",
    "#### Column Names\n",
    "<ul>\n",
    "<li>id</li>\n",
    "<li>popularity</li>\n",
    "<li>imdb_id</li>\n",
    "<li>budget</li>\n",
    "<li>homepage</li>\n",
    "<li>overview</li>\n",
    "<li>revenue</li>\n",
    "<li>original_title</li>\n",
    "<li>director</li>\n",
    "<li>tagline</li>\n",
    "<li>runtime</li>\n",
    "<li>release_date</li>\n",
    "<li>vote_count</li>\n",
    "<li>vote_average</li>\n",
    "<li>release_year</li>\n",
    "<li>budget_adj</li>\n",
    "<li>revenue_adj</li>\n",
    "\n",
    "These columns below are JSON columns and will not be analysed:\n",
    "<li>cast</li>\n",
    "<li>genres</li>\n",
    "<li>keywords</li>\n",
    "<li>production_companies</li>\n",
    "</ul>\n",
    "\n",
    "### Question(s) for Analysis\n",
    "\n",
    "The dependent variable in my analysis will be vote_average and the independent variables will be budget, popularity and runtime.\n",
    "\n",
    "<ul>\n",
    "<li>How do the budget, popularity and runtime affect average votes?</li>\n",
    "</ul>\n"
   ]
  },
  {
   "cell_type": "code",
   "execution_count": 150,
   "metadata": {
    "collapsed": true
   },
   "outputs": [],
   "source": [
    "import pandas as pd\n",
    "import numpy as np\n",
    "import matplotlib.pyplot as plt\n",
    "%matplotlib inline"
   ]
  },
  {
   "cell_type": "markdown",
   "metadata": {},
   "source": [
    "<a id='wrangling'></a>\n",
    "## Data Wrangling\n"
   ]
  },
  {
   "cell_type": "code",
   "execution_count": 151,
   "metadata": {
    "collapsed": true
   },
   "outputs": [
    {
     "data": {
      "text/html": [
       "<div>\n",
       "<style scoped>\n",
       "    .dataframe tbody tr th:only-of-type {\n",
       "        vertical-align: middle;\n",
       "    }\n",
       "\n",
       "    .dataframe tbody tr th {\n",
       "        vertical-align: top;\n",
       "    }\n",
       "\n",
       "    .dataframe thead th {\n",
       "        text-align: right;\n",
       "    }\n",
       "</style>\n",
       "<table border=\"1\" class=\"dataframe\">\n",
       "  <thead>\n",
       "    <tr style=\"text-align: right;\">\n",
       "      <th></th>\n",
       "      <th>id</th>\n",
       "      <th>imdb_id</th>\n",
       "      <th>popularity</th>\n",
       "      <th>budget</th>\n",
       "      <th>revenue</th>\n",
       "      <th>original_title</th>\n",
       "      <th>cast</th>\n",
       "      <th>homepage</th>\n",
       "      <th>director</th>\n",
       "      <th>tagline</th>\n",
       "      <th>...</th>\n",
       "      <th>overview</th>\n",
       "      <th>runtime</th>\n",
       "      <th>genres</th>\n",
       "      <th>production_companies</th>\n",
       "      <th>release_date</th>\n",
       "      <th>vote_count</th>\n",
       "      <th>vote_average</th>\n",
       "      <th>release_year</th>\n",
       "      <th>budget_adj</th>\n",
       "      <th>revenue_adj</th>\n",
       "    </tr>\n",
       "  </thead>\n",
       "  <tbody>\n",
       "    <tr>\n",
       "      <th>0</th>\n",
       "      <td>135397</td>\n",
       "      <td>tt0369610</td>\n",
       "      <td>32.985763</td>\n",
       "      <td>150000000</td>\n",
       "      <td>1513528810</td>\n",
       "      <td>Jurassic World</td>\n",
       "      <td>Chris Pratt|Bryce Dallas Howard|Irrfan Khan|Vi...</td>\n",
       "      <td>http://www.jurassicworld.com/</td>\n",
       "      <td>Colin Trevorrow</td>\n",
       "      <td>The park is open.</td>\n",
       "      <td>...</td>\n",
       "      <td>Twenty-two years after the events of Jurassic ...</td>\n",
       "      <td>124</td>\n",
       "      <td>Action|Adventure|Science Fiction|Thriller</td>\n",
       "      <td>Universal Studios|Amblin Entertainment|Legenda...</td>\n",
       "      <td>6/9/15</td>\n",
       "      <td>5562</td>\n",
       "      <td>6.5</td>\n",
       "      <td>2015</td>\n",
       "      <td>1.379999e+08</td>\n",
       "      <td>1.392446e+09</td>\n",
       "    </tr>\n",
       "    <tr>\n",
       "      <th>1</th>\n",
       "      <td>76341</td>\n",
       "      <td>tt1392190</td>\n",
       "      <td>28.419936</td>\n",
       "      <td>150000000</td>\n",
       "      <td>378436354</td>\n",
       "      <td>Mad Max: Fury Road</td>\n",
       "      <td>Tom Hardy|Charlize Theron|Hugh Keays-Byrne|Nic...</td>\n",
       "      <td>http://www.madmaxmovie.com/</td>\n",
       "      <td>George Miller</td>\n",
       "      <td>What a Lovely Day.</td>\n",
       "      <td>...</td>\n",
       "      <td>An apocalyptic story set in the furthest reach...</td>\n",
       "      <td>120</td>\n",
       "      <td>Action|Adventure|Science Fiction|Thriller</td>\n",
       "      <td>Village Roadshow Pictures|Kennedy Miller Produ...</td>\n",
       "      <td>5/13/15</td>\n",
       "      <td>6185</td>\n",
       "      <td>7.1</td>\n",
       "      <td>2015</td>\n",
       "      <td>1.379999e+08</td>\n",
       "      <td>3.481613e+08</td>\n",
       "    </tr>\n",
       "    <tr>\n",
       "      <th>2</th>\n",
       "      <td>262500</td>\n",
       "      <td>tt2908446</td>\n",
       "      <td>13.112507</td>\n",
       "      <td>110000000</td>\n",
       "      <td>295238201</td>\n",
       "      <td>Insurgent</td>\n",
       "      <td>Shailene Woodley|Theo James|Kate Winslet|Ansel...</td>\n",
       "      <td>http://www.thedivergentseries.movie/#insurgent</td>\n",
       "      <td>Robert Schwentke</td>\n",
       "      <td>One Choice Can Destroy You</td>\n",
       "      <td>...</td>\n",
       "      <td>Beatrice Prior must confront her inner demons ...</td>\n",
       "      <td>119</td>\n",
       "      <td>Adventure|Science Fiction|Thriller</td>\n",
       "      <td>Summit Entertainment|Mandeville Films|Red Wago...</td>\n",
       "      <td>3/18/15</td>\n",
       "      <td>2480</td>\n",
       "      <td>6.3</td>\n",
       "      <td>2015</td>\n",
       "      <td>1.012000e+08</td>\n",
       "      <td>2.716190e+08</td>\n",
       "    </tr>\n",
       "    <tr>\n",
       "      <th>3</th>\n",
       "      <td>140607</td>\n",
       "      <td>tt2488496</td>\n",
       "      <td>11.173104</td>\n",
       "      <td>200000000</td>\n",
       "      <td>2068178225</td>\n",
       "      <td>Star Wars: The Force Awakens</td>\n",
       "      <td>Harrison Ford|Mark Hamill|Carrie Fisher|Adam D...</td>\n",
       "      <td>http://www.starwars.com/films/star-wars-episod...</td>\n",
       "      <td>J.J. Abrams</td>\n",
       "      <td>Every generation has a story.</td>\n",
       "      <td>...</td>\n",
       "      <td>Thirty years after defeating the Galactic Empi...</td>\n",
       "      <td>136</td>\n",
       "      <td>Action|Adventure|Science Fiction|Fantasy</td>\n",
       "      <td>Lucasfilm|Truenorth Productions|Bad Robot</td>\n",
       "      <td>12/15/15</td>\n",
       "      <td>5292</td>\n",
       "      <td>7.5</td>\n",
       "      <td>2015</td>\n",
       "      <td>1.839999e+08</td>\n",
       "      <td>1.902723e+09</td>\n",
       "    </tr>\n",
       "    <tr>\n",
       "      <th>4</th>\n",
       "      <td>168259</td>\n",
       "      <td>tt2820852</td>\n",
       "      <td>9.335014</td>\n",
       "      <td>190000000</td>\n",
       "      <td>1506249360</td>\n",
       "      <td>Furious 7</td>\n",
       "      <td>Vin Diesel|Paul Walker|Jason Statham|Michelle ...</td>\n",
       "      <td>http://www.furious7.com/</td>\n",
       "      <td>James Wan</td>\n",
       "      <td>Vengeance Hits Home</td>\n",
       "      <td>...</td>\n",
       "      <td>Deckard Shaw seeks revenge against Dominic Tor...</td>\n",
       "      <td>137</td>\n",
       "      <td>Action|Crime|Thriller</td>\n",
       "      <td>Universal Pictures|Original Film|Media Rights ...</td>\n",
       "      <td>4/1/15</td>\n",
       "      <td>2947</td>\n",
       "      <td>7.3</td>\n",
       "      <td>2015</td>\n",
       "      <td>1.747999e+08</td>\n",
       "      <td>1.385749e+09</td>\n",
       "    </tr>\n",
       "  </tbody>\n",
       "</table>\n",
       "<p>5 rows × 21 columns</p>\n",
       "</div>"
      ],
      "text/plain": [
       "       id    imdb_id  popularity     budget     revenue  \\\n",
       "0  135397  tt0369610   32.985763  150000000  1513528810   \n",
       "1   76341  tt1392190   28.419936  150000000   378436354   \n",
       "2  262500  tt2908446   13.112507  110000000   295238201   \n",
       "3  140607  tt2488496   11.173104  200000000  2068178225   \n",
       "4  168259  tt2820852    9.335014  190000000  1506249360   \n",
       "\n",
       "                 original_title  \\\n",
       "0                Jurassic World   \n",
       "1            Mad Max: Fury Road   \n",
       "2                     Insurgent   \n",
       "3  Star Wars: The Force Awakens   \n",
       "4                     Furious 7   \n",
       "\n",
       "                                                cast  \\\n",
       "0  Chris Pratt|Bryce Dallas Howard|Irrfan Khan|Vi...   \n",
       "1  Tom Hardy|Charlize Theron|Hugh Keays-Byrne|Nic...   \n",
       "2  Shailene Woodley|Theo James|Kate Winslet|Ansel...   \n",
       "3  Harrison Ford|Mark Hamill|Carrie Fisher|Adam D...   \n",
       "4  Vin Diesel|Paul Walker|Jason Statham|Michelle ...   \n",
       "\n",
       "                                            homepage          director  \\\n",
       "0                      http://www.jurassicworld.com/   Colin Trevorrow   \n",
       "1                        http://www.madmaxmovie.com/     George Miller   \n",
       "2     http://www.thedivergentseries.movie/#insurgent  Robert Schwentke   \n",
       "3  http://www.starwars.com/films/star-wars-episod...       J.J. Abrams   \n",
       "4                           http://www.furious7.com/         James Wan   \n",
       "\n",
       "                         tagline  ...  \\\n",
       "0              The park is open.  ...   \n",
       "1             What a Lovely Day.  ...   \n",
       "2     One Choice Can Destroy You  ...   \n",
       "3  Every generation has a story.  ...   \n",
       "4            Vengeance Hits Home  ...   \n",
       "\n",
       "                                            overview runtime  \\\n",
       "0  Twenty-two years after the events of Jurassic ...     124   \n",
       "1  An apocalyptic story set in the furthest reach...     120   \n",
       "2  Beatrice Prior must confront her inner demons ...     119   \n",
       "3  Thirty years after defeating the Galactic Empi...     136   \n",
       "4  Deckard Shaw seeks revenge against Dominic Tor...     137   \n",
       "\n",
       "                                      genres  \\\n",
       "0  Action|Adventure|Science Fiction|Thriller   \n",
       "1  Action|Adventure|Science Fiction|Thriller   \n",
       "2         Adventure|Science Fiction|Thriller   \n",
       "3   Action|Adventure|Science Fiction|Fantasy   \n",
       "4                      Action|Crime|Thriller   \n",
       "\n",
       "                                production_companies release_date vote_count  \\\n",
       "0  Universal Studios|Amblin Entertainment|Legenda...       6/9/15       5562   \n",
       "1  Village Roadshow Pictures|Kennedy Miller Produ...      5/13/15       6185   \n",
       "2  Summit Entertainment|Mandeville Films|Red Wago...      3/18/15       2480   \n",
       "3          Lucasfilm|Truenorth Productions|Bad Robot     12/15/15       5292   \n",
       "4  Universal Pictures|Original Film|Media Rights ...       4/1/15       2947   \n",
       "\n",
       "   vote_average  release_year    budget_adj   revenue_adj  \n",
       "0           6.5          2015  1.379999e+08  1.392446e+09  \n",
       "1           7.1          2015  1.379999e+08  3.481613e+08  \n",
       "2           6.3          2015  1.012000e+08  2.716190e+08  \n",
       "3           7.5          2015  1.839999e+08  1.902723e+09  \n",
       "4           7.3          2015  1.747999e+08  1.385749e+09  \n",
       "\n",
       "[5 rows x 21 columns]"
      ]
     },
     "execution_count": 151,
     "metadata": {},
     "output_type": "execute_result"
    }
   ],
   "source": [
    "df = pd.read_csv(\"tmdb-movies.csv\")\n",
    "df.head()"
   ]
  },
  {
   "cell_type": "markdown",
   "metadata": {},
   "source": [
    "I dropped duplicate entries"
   ]
  },
  {
   "cell_type": "code",
   "execution_count": 152,
   "metadata": {},
   "outputs": [],
   "source": [
    "df.drop_duplicates(subset=\"id\", inplace=True)"
   ]
  },
  {
   "cell_type": "markdown",
   "metadata": {},
   "source": [
    "I dropped the columns I do not need for this analysis."
   ]
  },
  {
   "cell_type": "code",
   "execution_count": 153,
   "metadata": {},
   "outputs": [
    {
     "data": {
      "text/html": [
       "<div>\n",
       "<style scoped>\n",
       "    .dataframe tbody tr th:only-of-type {\n",
       "        vertical-align: middle;\n",
       "    }\n",
       "\n",
       "    .dataframe tbody tr th {\n",
       "        vertical-align: top;\n",
       "    }\n",
       "\n",
       "    .dataframe thead th {\n",
       "        text-align: right;\n",
       "    }\n",
       "</style>\n",
       "<table border=\"1\" class=\"dataframe\">\n",
       "  <thead>\n",
       "    <tr style=\"text-align: right;\">\n",
       "      <th></th>\n",
       "      <th>popularity</th>\n",
       "      <th>budget</th>\n",
       "      <th>revenue</th>\n",
       "      <th>runtime</th>\n",
       "      <th>vote_count</th>\n",
       "      <th>vote_average</th>\n",
       "    </tr>\n",
       "  </thead>\n",
       "  <tbody>\n",
       "    <tr>\n",
       "      <th>0</th>\n",
       "      <td>32.985763</td>\n",
       "      <td>150000000</td>\n",
       "      <td>1513528810</td>\n",
       "      <td>124</td>\n",
       "      <td>5562</td>\n",
       "      <td>6.5</td>\n",
       "    </tr>\n",
       "    <tr>\n",
       "      <th>1</th>\n",
       "      <td>28.419936</td>\n",
       "      <td>150000000</td>\n",
       "      <td>378436354</td>\n",
       "      <td>120</td>\n",
       "      <td>6185</td>\n",
       "      <td>7.1</td>\n",
       "    </tr>\n",
       "    <tr>\n",
       "      <th>2</th>\n",
       "      <td>13.112507</td>\n",
       "      <td>110000000</td>\n",
       "      <td>295238201</td>\n",
       "      <td>119</td>\n",
       "      <td>2480</td>\n",
       "      <td>6.3</td>\n",
       "    </tr>\n",
       "    <tr>\n",
       "      <th>3</th>\n",
       "      <td>11.173104</td>\n",
       "      <td>200000000</td>\n",
       "      <td>2068178225</td>\n",
       "      <td>136</td>\n",
       "      <td>5292</td>\n",
       "      <td>7.5</td>\n",
       "    </tr>\n",
       "    <tr>\n",
       "      <th>4</th>\n",
       "      <td>9.335014</td>\n",
       "      <td>190000000</td>\n",
       "      <td>1506249360</td>\n",
       "      <td>137</td>\n",
       "      <td>2947</td>\n",
       "      <td>7.3</td>\n",
       "    </tr>\n",
       "  </tbody>\n",
       "</table>\n",
       "</div>"
      ],
      "text/plain": [
       "   popularity     budget     revenue  runtime  vote_count  vote_average\n",
       "0   32.985763  150000000  1513528810      124        5562           6.5\n",
       "1   28.419936  150000000   378436354      120        6185           7.1\n",
       "2   13.112507  110000000   295238201      119        2480           6.3\n",
       "3   11.173104  200000000  2068178225      136        5292           7.5\n",
       "4    9.335014  190000000  1506249360      137        2947           7.3"
      ]
     },
     "execution_count": 153,
     "metadata": {},
     "output_type": "execute_result"
    }
   ],
   "source": [
    "drop_columns = [\"id\", \"imdb_id\", \"original_title\", \"cast\", \"director\", \"homepage\", \"tagline\", \"keywords\", \"overview\", \"genres\", \"production_companies\", \"release_date\", \"release_year\", \"budget_adj\", \"revenue_adj\"]\n",
    "\n",
    "df.drop(drop_columns, axis=1, inplace=True)\n",
    "df.head()"
   ]
  },
  {
   "cell_type": "markdown",
   "metadata": {},
   "source": [
    "Getting a general summary of the data."
   ]
  },
  {
   "cell_type": "code",
   "execution_count": 154,
   "metadata": {},
   "outputs": [
    {
     "name": "stdout",
     "output_type": "stream",
     "text": [
      "<class 'pandas.core.frame.DataFrame'>\n",
      "Int64Index: 10865 entries, 0 to 10865\n",
      "Data columns (total 6 columns):\n",
      " #   Column        Non-Null Count  Dtype  \n",
      "---  ------        --------------  -----  \n",
      " 0   popularity    10865 non-null  float64\n",
      " 1   budget        10865 non-null  int64  \n",
      " 2   revenue       10865 non-null  int64  \n",
      " 3   runtime       10865 non-null  int64  \n",
      " 4   vote_count    10865 non-null  int64  \n",
      " 5   vote_average  10865 non-null  float64\n",
      "dtypes: float64(2), int64(4)\n",
      "memory usage: 594.2 KB\n"
     ]
    }
   ],
   "source": [
    "df.info()"
   ]
  },
  {
   "cell_type": "markdown",
   "metadata": {},
   "source": [
    "From the summary above, it can be seen that there are no missing values in the dataset."
   ]
  },
  {
   "cell_type": "code",
   "execution_count": 155,
   "metadata": {},
   "outputs": [
    {
     "data": {
      "text/plain": [
       "popularity      10814\n",
       "budget            557\n",
       "revenue          4702\n",
       "runtime           247\n",
       "vote_count       1289\n",
       "vote_average       72\n",
       "dtype: int64"
      ]
     },
     "execution_count": 155,
     "metadata": {},
     "output_type": "execute_result"
    }
   ],
   "source": [
    "df.nunique()"
   ]
  },
  {
   "cell_type": "markdown",
   "metadata": {},
   "source": [
    "I created a function to plot my histograms"
   ]
  },
  {
   "cell_type": "code",
   "execution_count": 156,
   "metadata": {},
   "outputs": [],
   "source": [
    "def plot_hist(df, attr, x_label, y_label, title):\n",
    "    df[attr].hist()\n",
    "    plt.xlabel(x_label)\n",
    "    plt.ylabel(y_label)\n",
    "    plt.title(title)"
   ]
  },
  {
   "cell_type": "markdown",
   "metadata": {},
   "source": [
    "<a id='eda'></a>\n",
    "## Exploratory Data Analysis\n",
    "\n",
    "### How does the popularity of a movie affect the average user votes?"
   ]
  },
  {
   "cell_type": "markdown",
   "metadata": {},
   "source": [
    "Summary of the popularity attribute."
   ]
  },
  {
   "cell_type": "code",
   "execution_count": 157,
   "metadata": {},
   "outputs": [
    {
     "data": {
      "text/plain": [
       "count    10865.000000\n",
       "mean         0.646446\n",
       "std          1.000231\n",
       "min          0.000065\n",
       "25%          0.207575\n",
       "50%          0.383831\n",
       "75%          0.713857\n",
       "max         32.985763\n",
       "Name: popularity, dtype: float64"
      ]
     },
     "execution_count": 157,
     "metadata": {},
     "output_type": "execute_result"
    }
   ],
   "source": [
    "df.popularity.describe()"
   ]
  },
  {
   "cell_type": "markdown",
   "metadata": {},
   "source": [
    "Scatter plot of Popularity against Average user votes. I did this to find out if there is a linear relationship between the two variables."
   ]
  },
  {
   "cell_type": "code",
   "execution_count": 158,
   "metadata": {
    "collapsed": true
   },
   "outputs": [
    {
     "data": {
      "image/png": "[encoded data removed]",
      "text/plain": [
       "<Figure size 432x288 with 1 Axes>"
      ]
     },
     "metadata": {
      "needs_background": "light"
     },
     "output_type": "display_data"
    }
   ],
   "source": [
    "plt.scatter(df.popularity, df.vote_average)\n",
    "plt.xlabel(\"Popularity\")\n",
    "plt.ylabel(\"Average User Votes\")\n",
    "plt.title(\"Popularity by Average User Votes\");"
   ]
  },
  {
   "cell_type": "markdown",
   "metadata": {},
   "source": [
    "### How does the runtime of a movie affect the users ratings?"
   ]
  },
  {
   "cell_type": "code",
   "execution_count": 159,
   "metadata": {
    "collapsed": true
   },
   "outputs": [
    {
     "data": {
      "text/plain": [
       "count    10865.000000\n",
       "mean       102.071790\n",
       "std         31.382701\n",
       "min          0.000000\n",
       "25%         90.000000\n",
       "50%         99.000000\n",
       "75%        111.000000\n",
       "max        900.000000\n",
       "Name: runtime, dtype: float64"
      ]
     },
     "execution_count": 159,
     "metadata": {},
     "output_type": "execute_result"
    }
   ],
   "source": [
    "df.runtime.describe()"
   ]
  },
  {
   "cell_type": "markdown",
   "metadata": {},
   "source": [
    "The histogram shows that most movies have a runtime of less than 200 minutes."
   ]
  },
  {
   "cell_type": "code",
   "execution_count": 160,
   "metadata": {},
   "outputs": [
    {
     "data": {
      "image/png": "[encoded data removed]",
      "text/plain": [
       "<Figure size 432x288 with 1 Axes>"
      ]
     },
     "metadata": {
      "needs_background": "light"
     },
     "output_type": "display_data"
    }
   ],
   "source": [
    "plot_hist(df, \"runtime\", \"Runtime in minutes\", \"Movie count\", \"Histogram showing number of moviees by their runtime\")\n"
   ]
  },
  {
   "cell_type": "markdown",
   "metadata": {},
   "source": [
    "I first removed the rows wih runtime values of over 400 minutes because there are not a lot of them and they will affect the visualizations. I then converted the minutes into hours, split them into bins and created a new column for it."
   ]
  },
  {
   "cell_type": "code",
   "execution_count": 161,
   "metadata": {},
   "outputs": [],
   "source": [
    "df = df[df.runtime < 400]"
   ]
  },
  {
   "cell_type": "code",
   "execution_count": 162,
   "metadata": {},
   "outputs": [
    {
     "data": {
      "text/html": [
       "<div>\n",
       "<style scoped>\n",
       "    .dataframe tbody tr th:only-of-type {\n",
       "        vertical-align: middle;\n",
       "    }\n",
       "\n",
       "    .dataframe tbody tr th {\n",
       "        vertical-align: top;\n",
       "    }\n",
       "\n",
       "    .dataframe thead th {\n",
       "        text-align: right;\n",
       "    }\n",
       "</style>\n",
       "<table border=\"1\" class=\"dataframe\">\n",
       "  <thead>\n",
       "    <tr style=\"text-align: right;\">\n",
       "      <th></th>\n",
       "      <th>popularity</th>\n",
       "      <th>budget</th>\n",
       "      <th>revenue</th>\n",
       "      <th>runtime</th>\n",
       "      <th>vote_count</th>\n",
       "      <th>vote_average</th>\n",
       "      <th>runtime_summary</th>\n",
       "    </tr>\n",
       "  </thead>\n",
       "  <tbody>\n",
       "    <tr>\n",
       "      <th>0</th>\n",
       "      <td>32.985763</td>\n",
       "      <td>150000000</td>\n",
       "      <td>1513528810</td>\n",
       "      <td>124</td>\n",
       "      <td>5562</td>\n",
       "      <td>6.5</td>\n",
       "      <td>3.0 hour(s)</td>\n",
       "    </tr>\n",
       "    <tr>\n",
       "      <th>1</th>\n",
       "      <td>28.419936</td>\n",
       "      <td>150000000</td>\n",
       "      <td>378436354</td>\n",
       "      <td>120</td>\n",
       "      <td>6185</td>\n",
       "      <td>7.1</td>\n",
       "      <td>2.0 hour(s)</td>\n",
       "    </tr>\n",
       "    <tr>\n",
       "      <th>2</th>\n",
       "      <td>13.112507</td>\n",
       "      <td>110000000</td>\n",
       "      <td>295238201</td>\n",
       "      <td>119</td>\n",
       "      <td>2480</td>\n",
       "      <td>6.3</td>\n",
       "      <td>2.0 hour(s)</td>\n",
       "    </tr>\n",
       "    <tr>\n",
       "      <th>3</th>\n",
       "      <td>11.173104</td>\n",
       "      <td>200000000</td>\n",
       "      <td>2068178225</td>\n",
       "      <td>136</td>\n",
       "      <td>5292</td>\n",
       "      <td>7.5</td>\n",
       "      <td>3.0 hour(s)</td>\n",
       "    </tr>\n",
       "    <tr>\n",
       "      <th>4</th>\n",
       "      <td>9.335014</td>\n",
       "      <td>190000000</td>\n",
       "      <td>1506249360</td>\n",
       "      <td>137</td>\n",
       "      <td>2947</td>\n",
       "      <td>7.3</td>\n",
       "      <td>3.0 hour(s)</td>\n",
       "    </tr>\n",
       "  </tbody>\n",
       "</table>\n",
       "</div>"
      ],
      "text/plain": [
       "   popularity     budget     revenue  runtime  vote_count  vote_average  \\\n",
       "0   32.985763  150000000  1513528810      124        5562           6.5   \n",
       "1   28.419936  150000000   378436354      120        6185           7.1   \n",
       "2   13.112507  110000000   295238201      119        2480           6.3   \n",
       "3   11.173104  200000000  2068178225      136        5292           7.5   \n",
       "4    9.335014  190000000  1506249360      137        2947           7.3   \n",
       "\n",
       "  runtime_summary  \n",
       "0     3.0 hour(s)  \n",
       "1     2.0 hour(s)  \n",
       "2     2.0 hour(s)  \n",
       "3     3.0 hour(s)  \n",
       "4     3.0 hour(s)  "
      ]
     },
     "execution_count": 162,
     "metadata": {},
     "output_type": "execute_result"
    }
   ],
   "source": [
    "bins_runtime = np.arange(400, step=60)\n",
    "labels = []\n",
    "\n",
    "for i in bins_runtime[1:]:\n",
    "    labels.append(\"{0} hour(s)\".format(i/60))\n",
    "\n",
    "df[\"runtime_summary\"] = pd.cut(df.runtime, bins=bins_runtime, labels=labels)\n",
    "df.head()"
   ]
  },
  {
   "cell_type": "markdown",
   "metadata": {},
   "source": [
    "From the bar chart, I can see that run for less than an hour have the highest ratings"
   ]
  },
  {
   "cell_type": "code",
   "execution_count": 163,
   "metadata": {},
   "outputs": [
    {
     "data": {
      "image/png": "[encoded data removed]",
      "text/plain": [
       "<Figure size 1296x720 with 1 Axes>"
      ]
     },
     "metadata": {
      "needs_background": "light"
     },
     "output_type": "display_data"
    }
   ],
   "source": [
    "size = np.arange(1, len(bins_runtime))\n",
    "runtime_means = df.groupby(\"runtime_summary\")[\"vote_average\"].mean()\n",
    "\n",
    "plt.subplots(figsize=(18, 10))\n",
    "plt.bar(size, runtime_means, tick_label=labels)\n",
    "plt.xlabel(\"Runtime in minutes\")\n",
    "plt.ylabel(\"Average user ratings\")\n",
    "plt.title(\"Average User Ratings by Runtime\");"
   ]
  },
  {
   "cell_type": "markdown",
   "metadata": {},
   "source": [
    "### How does the budget amount affect the user rating?"
   ]
  },
  {
   "cell_type": "code",
   "execution_count": 164,
   "metadata": {},
   "outputs": [
    {
     "data": {
      "text/plain": [
       "count    1.085100e+04\n",
       "mean     1.463210e+07\n",
       "std      3.091353e+07\n",
       "min      0.000000e+00\n",
       "25%      0.000000e+00\n",
       "50%      0.000000e+00\n",
       "75%      1.500000e+07\n",
       "max      4.250000e+08\n",
       "Name: budget, dtype: float64"
      ]
     },
     "execution_count": 164,
     "metadata": {},
     "output_type": "execute_result"
    }
   ],
   "source": [
    "df.budget.describe()"
   ]
  },
  {
   "cell_type": "markdown",
   "metadata": {},
   "source": [
    "I dropped the rows that have a budget of 0 because they will be irrelevant to this analysis"
   ]
  },
  {
   "cell_type": "code",
   "execution_count": 165,
   "metadata": {},
   "outputs": [
    {
     "data": {
      "text/plain": [
       "count    5.168000e+03\n",
       "mean     3.072230e+07\n",
       "std      3.888835e+07\n",
       "min      1.000000e+00\n",
       "25%      6.000000e+06\n",
       "50%      1.700000e+07\n",
       "75%      4.000000e+07\n",
       "max      4.250000e+08\n",
       "Name: budget, dtype: float64"
      ]
     },
     "execution_count": 165,
     "metadata": {},
     "output_type": "execute_result"
    }
   ],
   "source": [
    "df_budget = df.drop(df[df.budget == 0].index)\n",
    "df_budget.budget.describe()"
   ]
  },
  {
   "cell_type": "code",
   "execution_count": 166,
   "metadata": {},
   "outputs": [
    {
     "data": {
      "image/png": "[encoded data removed]",
      "text/plain": [
       "<Figure size 432x288 with 1 Axes>"
      ]
     },
     "metadata": {
      "needs_background": "light"
     },
     "output_type": "display_data"
    }
   ],
   "source": [
    "plot_hist(df, \"budget\", \"Budget in hundreds of millions\", \"Movie count\", \"Histogram showing number of movies by their budget size\")"
   ]
  },
  {
   "cell_type": "markdown",
   "metadata": {},
   "source": [
    "From the graph above, I can infer that most movies have a budget less than 100,000,000.\n",
    "\n",
    "I then converted budget values into discrete values based on the quartiles."
   ]
  },
  {
   "cell_type": "code",
   "execution_count": 167,
   "metadata": {},
   "outputs": [
    {
     "data": {
      "text/html": [
       "<div>\n",
       "<style scoped>\n",
       "    .dataframe tbody tr th:only-of-type {\n",
       "        vertical-align: middle;\n",
       "    }\n",
       "\n",
       "    .dataframe tbody tr th {\n",
       "        vertical-align: top;\n",
       "    }\n",
       "\n",
       "    .dataframe thead th {\n",
       "        text-align: right;\n",
       "    }\n",
       "</style>\n",
       "<table border=\"1\" class=\"dataframe\">\n",
       "  <thead>\n",
       "    <tr style=\"text-align: right;\">\n",
       "      <th></th>\n",
       "      <th>popularity</th>\n",
       "      <th>budget</th>\n",
       "      <th>revenue</th>\n",
       "      <th>runtime</th>\n",
       "      <th>vote_count</th>\n",
       "      <th>vote_average</th>\n",
       "      <th>runtime_summary</th>\n",
       "      <th>budget_summary</th>\n",
       "    </tr>\n",
       "  </thead>\n",
       "  <tbody>\n",
       "    <tr>\n",
       "      <th>0</th>\n",
       "      <td>32.985763</td>\n",
       "      <td>150000000</td>\n",
       "      <td>1513528810</td>\n",
       "      <td>124</td>\n",
       "      <td>5562</td>\n",
       "      <td>6.5</td>\n",
       "      <td>3.0 hour(s)</td>\n",
       "      <td>very high</td>\n",
       "    </tr>\n",
       "    <tr>\n",
       "      <th>1</th>\n",
       "      <td>28.419936</td>\n",
       "      <td>150000000</td>\n",
       "      <td>378436354</td>\n",
       "      <td>120</td>\n",
       "      <td>6185</td>\n",
       "      <td>7.1</td>\n",
       "      <td>2.0 hour(s)</td>\n",
       "      <td>very high</td>\n",
       "    </tr>\n",
       "    <tr>\n",
       "      <th>2</th>\n",
       "      <td>13.112507</td>\n",
       "      <td>110000000</td>\n",
       "      <td>295238201</td>\n",
       "      <td>119</td>\n",
       "      <td>2480</td>\n",
       "      <td>6.3</td>\n",
       "      <td>2.0 hour(s)</td>\n",
       "      <td>very high</td>\n",
       "    </tr>\n",
       "    <tr>\n",
       "      <th>3</th>\n",
       "      <td>11.173104</td>\n",
       "      <td>200000000</td>\n",
       "      <td>2068178225</td>\n",
       "      <td>136</td>\n",
       "      <td>5292</td>\n",
       "      <td>7.5</td>\n",
       "      <td>3.0 hour(s)</td>\n",
       "      <td>very high</td>\n",
       "    </tr>\n",
       "    <tr>\n",
       "      <th>4</th>\n",
       "      <td>9.335014</td>\n",
       "      <td>190000000</td>\n",
       "      <td>1506249360</td>\n",
       "      <td>137</td>\n",
       "      <td>2947</td>\n",
       "      <td>7.3</td>\n",
       "      <td>3.0 hour(s)</td>\n",
       "      <td>very high</td>\n",
       "    </tr>\n",
       "  </tbody>\n",
       "</table>\n",
       "</div>"
      ],
      "text/plain": [
       "   popularity     budget     revenue  runtime  vote_count  vote_average  \\\n",
       "0   32.985763  150000000  1513528810      124        5562           6.5   \n",
       "1   28.419936  150000000   378436354      120        6185           7.1   \n",
       "2   13.112507  110000000   295238201      119        2480           6.3   \n",
       "3   11.173104  200000000  2068178225      136        5292           7.5   \n",
       "4    9.335014  190000000  1506249360      137        2947           7.3   \n",
       "\n",
       "  runtime_summary budget_summary  \n",
       "0     3.0 hour(s)      very high  \n",
       "1     2.0 hour(s)      very high  \n",
       "2     2.0 hour(s)      very high  \n",
       "3     3.0 hour(s)      very high  \n",
       "4     3.0 hour(s)      very high  "
      ]
     },
     "execution_count": 167,
     "metadata": {},
     "output_type": "execute_result"
    }
   ],
   "source": [
    "bin_budget = [1e+00, 6e+06, 1.7e+07, 4e+07, 4.25e+08]\n",
    "labels_budget = [\"low\", \"medium\", \"high\", \"very high\"]\n",
    "\n",
    "df_budget[\"budget_summary\"] = pd.cut(df_budget.budget, bins=bin_budget, labels=labels_budget)\n",
    "df_budget.head()"
   ]
  },
  {
   "cell_type": "code",
   "execution_count": 168,
   "metadata": {},
   "outputs": [
    {
     "data": {
      "image/png": "[encoded data removed]",
      "text/plain": [
       "<Figure size 432x288 with 1 Axes>"
      ]
     },
     "metadata": {
      "needs_background": "light"
     },
     "output_type": "display_data"
    }
   ],
   "source": [
    "budget_means = df_budget.groupby(\"budget_summary\").vote_average.mean()\n",
    "\n",
    "plt.bar([1, 2, 3, 4], budget_means,tick_label=labels_budget);\n",
    "plt.xlabel(\"Budget\")\n",
    "plt.ylabel(\"Average User Votes\")\n",
    "plt.title(\"Average User Ratings by Budget\");"
   ]
  },
  {
   "cell_type": "markdown",
   "metadata": {},
   "source": [
    "From the plot, it can be seen that movies with higher budgets have better ratings. Although, the difference in user ratings is not much."
   ]
  },
  {
   "cell_type": "markdown",
   "metadata": {},
   "source": [
    "### How do both runtime and budget amount affect the avergae user ratings?"
   ]
  },
  {
   "cell_type": "code",
   "execution_count": 169,
   "metadata": {},
   "outputs": [
    {
     "data": {
      "text/html": [
       "<div>\n",
       "<style scoped>\n",
       "    .dataframe tbody tr th:only-of-type {\n",
       "        vertical-align: middle;\n",
       "    }\n",
       "\n",
       "    .dataframe tbody tr th {\n",
       "        vertical-align: top;\n",
       "    }\n",
       "\n",
       "    .dataframe thead th {\n",
       "        text-align: right;\n",
       "    }\n",
       "</style>\n",
       "<table border=\"1\" class=\"dataframe\">\n",
       "  <thead>\n",
       "    <tr style=\"text-align: right;\">\n",
       "      <th></th>\n",
       "      <th></th>\n",
       "      <th>popularity</th>\n",
       "      <th>budget</th>\n",
       "      <th>revenue</th>\n",
       "      <th>runtime</th>\n",
       "      <th>vote_count</th>\n",
       "      <th>vote_average</th>\n",
       "    </tr>\n",
       "    <tr>\n",
       "      <th>runtime_summary</th>\n",
       "      <th>budget_summary</th>\n",
       "      <th></th>\n",
       "      <th></th>\n",
       "      <th></th>\n",
       "      <th></th>\n",
       "      <th></th>\n",
       "      <th></th>\n",
       "    </tr>\n",
       "  </thead>\n",
       "  <tbody>\n",
       "    <tr>\n",
       "      <th rowspan=\"4\" valign=\"top\">1.0 hour(s)</th>\n",
       "      <th>low</th>\n",
       "      <td>0.331716</td>\n",
       "      <td>6.212643e+05</td>\n",
       "      <td>8.076926e+05</td>\n",
       "      <td>22.000000</td>\n",
       "      <td>68.461538</td>\n",
       "      <td>6.580769</td>\n",
       "    </tr>\n",
       "    <tr>\n",
       "      <th>medium</th>\n",
       "      <td>NaN</td>\n",
       "      <td>NaN</td>\n",
       "      <td>NaN</td>\n",
       "      <td>NaN</td>\n",
       "      <td>NaN</td>\n",
       "      <td>NaN</td>\n",
       "    </tr>\n",
       "    <tr>\n",
       "      <th>high</th>\n",
       "      <td>NaN</td>\n",
       "      <td>NaN</td>\n",
       "      <td>NaN</td>\n",
       "      <td>NaN</td>\n",
       "      <td>NaN</td>\n",
       "      <td>NaN</td>\n",
       "    </tr>\n",
       "    <tr>\n",
       "      <th>very high</th>\n",
       "      <td>0.582192</td>\n",
       "      <td>6.000000e+07</td>\n",
       "      <td>0.000000e+00</td>\n",
       "      <td>28.000000</td>\n",
       "      <td>114.000000</td>\n",
       "      <td>5.700000</td>\n",
       "    </tr>\n",
       "    <tr>\n",
       "      <th rowspan=\"4\" valign=\"top\">2.0 hour(s)</th>\n",
       "      <th>low</th>\n",
       "      <td>0.503486</td>\n",
       "      <td>2.606308e+06</td>\n",
       "      <td>1.178416e+07</td>\n",
       "      <td>95.563847</td>\n",
       "      <td>119.411277</td>\n",
       "      <td>5.878524</td>\n",
       "    </tr>\n",
       "    <tr>\n",
       "      <th>medium</th>\n",
       "      <td>0.706267</td>\n",
       "      <td>1.135860e+07</td>\n",
       "      <td>2.785508e+07</td>\n",
       "      <td>99.546500</td>\n",
       "      <td>196.280920</td>\n",
       "      <td>5.906424</td>\n",
       "    </tr>\n",
       "    <tr>\n",
       "      <th>high</th>\n",
       "      <td>0.940878</td>\n",
       "      <td>2.731604e+07</td>\n",
       "      <td>6.044567e+07</td>\n",
       "      <td>102.015080</td>\n",
       "      <td>330.237512</td>\n",
       "      <td>5.896230</td>\n",
       "    </tr>\n",
       "    <tr>\n",
       "      <th>very high</th>\n",
       "      <td>1.512466</td>\n",
       "      <td>7.937306e+07</td>\n",
       "      <td>1.815467e+08</td>\n",
       "      <td>102.677835</td>\n",
       "      <td>742.663660</td>\n",
       "      <td>5.895490</td>\n",
       "    </tr>\n",
       "    <tr>\n",
       "      <th rowspan=\"4\" valign=\"top\">3.0 hour(s)</th>\n",
       "      <th>low</th>\n",
       "      <td>0.608369</td>\n",
       "      <td>3.047756e+06</td>\n",
       "      <td>1.844853e+07</td>\n",
       "      <td>134.074074</td>\n",
       "      <td>179.120370</td>\n",
       "      <td>6.585185</td>\n",
       "    </tr>\n",
       "    <tr>\n",
       "      <th>medium</th>\n",
       "      <td>0.831365</td>\n",
       "      <td>1.161131e+07</td>\n",
       "      <td>4.706080e+07</td>\n",
       "      <td>134.701657</td>\n",
       "      <td>276.983425</td>\n",
       "      <td>6.588950</td>\n",
       "    </tr>\n",
       "    <tr>\n",
       "      <th>high</th>\n",
       "      <td>1.165684</td>\n",
       "      <td>2.879711e+07</td>\n",
       "      <td>8.079554e+07</td>\n",
       "      <td>132.883333</td>\n",
       "      <td>477.290000</td>\n",
       "      <td>6.611667</td>\n",
       "    </tr>\n",
       "    <tr>\n",
       "      <th>very high</th>\n",
       "      <td>2.408939</td>\n",
       "      <td>9.846694e+07</td>\n",
       "      <td>3.070683e+08</td>\n",
       "      <td>136.551220</td>\n",
       "      <td>1455.485366</td>\n",
       "      <td>6.482195</td>\n",
       "    </tr>\n",
       "    <tr>\n",
       "      <th rowspan=\"4\" valign=\"top\">4.0 hour(s)</th>\n",
       "      <th>low</th>\n",
       "      <td>0.333935</td>\n",
       "      <td>1.384906e+06</td>\n",
       "      <td>1.762375e+06</td>\n",
       "      <td>189.250000</td>\n",
       "      <td>34.125000</td>\n",
       "      <td>6.562500</td>\n",
       "    </tr>\n",
       "    <tr>\n",
       "      <th>medium</th>\n",
       "      <td>0.935253</td>\n",
       "      <td>1.162196e+07</td>\n",
       "      <td>4.351537e+07</td>\n",
       "      <td>192.818182</td>\n",
       "      <td>354.909091</td>\n",
       "      <td>7.200000</td>\n",
       "    </tr>\n",
       "    <tr>\n",
       "      <th>high</th>\n",
       "      <td>0.877021</td>\n",
       "      <td>2.808333e+07</td>\n",
       "      <td>9.992686e+07</td>\n",
       "      <td>194.333333</td>\n",
       "      <td>439.750000</td>\n",
       "      <td>7.016667</td>\n",
       "    </tr>\n",
       "    <tr>\n",
       "      <th>very high</th>\n",
       "      <td>2.126872</td>\n",
       "      <td>9.750000e+07</td>\n",
       "      <td>4.327924e+08</td>\n",
       "      <td>196.100000</td>\n",
       "      <td>1529.800000</td>\n",
       "      <td>6.710000</td>\n",
       "    </tr>\n",
       "    <tr>\n",
       "      <th rowspan=\"4\" valign=\"top\">5.0 hour(s)</th>\n",
       "      <th>low</th>\n",
       "      <td>NaN</td>\n",
       "      <td>NaN</td>\n",
       "      <td>NaN</td>\n",
       "      <td>NaN</td>\n",
       "      <td>NaN</td>\n",
       "      <td>NaN</td>\n",
       "    </tr>\n",
       "    <tr>\n",
       "      <th>medium</th>\n",
       "      <td>NaN</td>\n",
       "      <td>NaN</td>\n",
       "      <td>NaN</td>\n",
       "      <td>NaN</td>\n",
       "      <td>NaN</td>\n",
       "      <td>NaN</td>\n",
       "    </tr>\n",
       "    <tr>\n",
       "      <th>high</th>\n",
       "      <td>0.385034</td>\n",
       "      <td>2.527875e+07</td>\n",
       "      <td>1.443750e+07</td>\n",
       "      <td>258.750000</td>\n",
       "      <td>49.500000</td>\n",
       "      <td>6.850000</td>\n",
       "    </tr>\n",
       "    <tr>\n",
       "      <th>very high</th>\n",
       "      <td>NaN</td>\n",
       "      <td>NaN</td>\n",
       "      <td>NaN</td>\n",
       "      <td>NaN</td>\n",
       "      <td>NaN</td>\n",
       "      <td>NaN</td>\n",
       "    </tr>\n",
       "    <tr>\n",
       "      <th rowspan=\"4\" valign=\"top\">6.0 hour(s)</th>\n",
       "      <th>low</th>\n",
       "      <td>NaN</td>\n",
       "      <td>NaN</td>\n",
       "      <td>NaN</td>\n",
       "      <td>NaN</td>\n",
       "      <td>NaN</td>\n",
       "      <td>NaN</td>\n",
       "    </tr>\n",
       "    <tr>\n",
       "      <th>medium</th>\n",
       "      <td>NaN</td>\n",
       "      <td>NaN</td>\n",
       "      <td>NaN</td>\n",
       "      <td>NaN</td>\n",
       "      <td>NaN</td>\n",
       "      <td>NaN</td>\n",
       "    </tr>\n",
       "    <tr>\n",
       "      <th>high</th>\n",
       "      <td>0.289206</td>\n",
       "      <td>1.900000e+07</td>\n",
       "      <td>4.356395e+05</td>\n",
       "      <td>337.000000</td>\n",
       "      <td>28.000000</td>\n",
       "      <td>6.400000</td>\n",
       "    </tr>\n",
       "    <tr>\n",
       "      <th>very high</th>\n",
       "      <td>0.321600</td>\n",
       "      <td>6.000000e+07</td>\n",
       "      <td>0.000000e+00</td>\n",
       "      <td>352.000000</td>\n",
       "      <td>31.000000</td>\n",
       "      <td>6.100000</td>\n",
       "    </tr>\n",
       "  </tbody>\n",
       "</table>\n",
       "</div>"
      ],
      "text/plain": [
       "                                popularity        budget       revenue  \\\n",
       "runtime_summary budget_summary                                           \n",
       "1.0 hour(s)     low               0.331716  6.212643e+05  8.076926e+05   \n",
       "                medium                 NaN           NaN           NaN   \n",
       "                high                   NaN           NaN           NaN   \n",
       "                very high         0.582192  6.000000e+07  0.000000e+00   \n",
       "2.0 hour(s)     low               0.503486  2.606308e+06  1.178416e+07   \n",
       "                medium            0.706267  1.135860e+07  2.785508e+07   \n",
       "                high              0.940878  2.731604e+07  6.044567e+07   \n",
       "                very high         1.512466  7.937306e+07  1.815467e+08   \n",
       "3.0 hour(s)     low               0.608369  3.047756e+06  1.844853e+07   \n",
       "                medium            0.831365  1.161131e+07  4.706080e+07   \n",
       "                high              1.165684  2.879711e+07  8.079554e+07   \n",
       "                very high         2.408939  9.846694e+07  3.070683e+08   \n",
       "4.0 hour(s)     low               0.333935  1.384906e+06  1.762375e+06   \n",
       "                medium            0.935253  1.162196e+07  4.351537e+07   \n",
       "                high              0.877021  2.808333e+07  9.992686e+07   \n",
       "                very high         2.126872  9.750000e+07  4.327924e+08   \n",
       "5.0 hour(s)     low                    NaN           NaN           NaN   \n",
       "                medium                 NaN           NaN           NaN   \n",
       "                high              0.385034  2.527875e+07  1.443750e+07   \n",
       "                very high              NaN           NaN           NaN   \n",
       "6.0 hour(s)     low                    NaN           NaN           NaN   \n",
       "                medium                 NaN           NaN           NaN   \n",
       "                high              0.289206  1.900000e+07  4.356395e+05   \n",
       "                very high         0.321600  6.000000e+07  0.000000e+00   \n",
       "\n",
       "                                   runtime   vote_count  vote_average  \n",
       "runtime_summary budget_summary                                         \n",
       "1.0 hour(s)     low              22.000000    68.461538      6.580769  \n",
       "                medium                 NaN          NaN           NaN  \n",
       "                high                   NaN          NaN           NaN  \n",
       "                very high        28.000000   114.000000      5.700000  \n",
       "2.0 hour(s)     low              95.563847   119.411277      5.878524  \n",
       "                medium           99.546500   196.280920      5.906424  \n",
       "                high            102.015080   330.237512      5.896230  \n",
       "                very high       102.677835   742.663660      5.895490  \n",
       "3.0 hour(s)     low             134.074074   179.120370      6.585185  \n",
       "                medium          134.701657   276.983425      6.588950  \n",
       "                high            132.883333   477.290000      6.611667  \n",
       "                very high       136.551220  1455.485366      6.482195  \n",
       "4.0 hour(s)     low             189.250000    34.125000      6.562500  \n",
       "                medium          192.818182   354.909091      7.200000  \n",
       "                high            194.333333   439.750000      7.016667  \n",
       "                very high       196.100000  1529.800000      6.710000  \n",
       "5.0 hour(s)     low                    NaN          NaN           NaN  \n",
       "                medium                 NaN          NaN           NaN  \n",
       "                high            258.750000    49.500000      6.850000  \n",
       "                very high              NaN          NaN           NaN  \n",
       "6.0 hour(s)     low                    NaN          NaN           NaN  \n",
       "                medium                 NaN          NaN           NaN  \n",
       "                high            337.000000    28.000000      6.400000  \n",
       "                very high       352.000000    31.000000      6.100000  "
      ]
     },
     "execution_count": 169,
     "metadata": {},
     "output_type": "execute_result"
    }
   ],
   "source": [
    "df_group = df_budget.groupby([\"runtime_summary\", \"budget_summary\"]).mean()\n",
    "df_group"
   ]
  },
  {
   "cell_type": "code",
   "execution_count": 170,
   "metadata": {},
   "outputs": [
    {
     "data": {
      "text/plain": [
       "runtime_summary  budget_summary\n",
       "1.0 hour(s)      low               6.580769\n",
       "                 medium                 NaN\n",
       "                 high                   NaN\n",
       "                 very high         5.700000\n",
       "2.0 hour(s)      low               5.878524\n",
       "                 medium            5.906424\n",
       "                 high              5.896230\n",
       "                 very high         5.895490\n",
       "3.0 hour(s)      low               6.585185\n",
       "                 medium            6.588950\n",
       "                 high              6.611667\n",
       "                 very high         6.482195\n",
       "4.0 hour(s)      low               6.562500\n",
       "                 medium            7.200000\n",
       "                 high              7.016667\n",
       "                 very high         6.710000\n",
       "5.0 hour(s)      low                    NaN\n",
       "                 medium                 NaN\n",
       "                 high              6.850000\n",
       "                 very high              NaN\n",
       "6.0 hour(s)      low                    NaN\n",
       "                 medium                 NaN\n",
       "                 high              6.400000\n",
       "                 very high         6.100000\n",
       "Name: vote_average, dtype: float64"
      ]
     },
     "execution_count": 170,
     "metadata": {},
     "output_type": "execute_result"
    }
   ],
   "source": [
    "df_group.vote_average"
   ]
  },
  {
   "cell_type": "code",
   "execution_count": 171,
   "metadata": {},
   "outputs": [
    {
     "data": {
      "image/png": "[encoded data removed]",
      "text/plain": [
       "<Figure size 1296x720 with 1 Axes>"
      ]
     },
     "metadata": {
      "needs_background": "light"
     },
     "output_type": "display_data"
    }
   ],
   "source": [
    "total = df_budget.groupby([\"budget_summary\"])[\"vote_average\"].mean()\n",
    "\n",
    "plt.subplots(figsize=(18,10))\n",
    "prop = df_group[\"vote_average\"] / total\n",
    "df_group.vote_average.plot(kind=\"bar\", title=\"\", color=[\"red\", \"yellow\", \"blue\", \"green\"]);\n",
    "plt.xlabel(\"Runtime and Budget Size\")\n",
    "plt.ylabel(\"Normalized average user votes\");\n"
   ]
  },
  {
   "cell_type": "markdown",
   "metadata": {},
   "source": [
    "<a id='conclusions'></a>\n",
    "## Conclusions\n",
    "\n",
    "After looking at the plots of the various independent variables against the average user votes, I found out that movies with a runtime of less than 1 hour have the highest average user votes but also, those with runtime of more than 3 hours also have high average user votes.\n",
    "\n",
    "The average user votes are also propotional to the budget size which means that movies with large budgets have better user ratings.\n",
    "\n",
    "But when compared with runtime, I found out that runtime is a more significant factor than budget size when determining how it affects user ratings. It still shows that movies with a runtime of 2 hours generally do not have high user ratings regardless of budget size.\n",
    "\n",
    "### Limitations\n",
    "In the first section, I could not find a relationship between popularity and the user votes. The popularity attribute was not defined well and there was no metric provided to tell how 'popularity' was measured.\n",
    "\n",
    "I also did not take into account the number of votes. It might have changed the results considering that movies with less vote counts might have higher ratings.\n"
   ]
  }
 ],
 "metadata": {
  "interpreter": {
   "hash": "ad2bdc8ecc057115af97d19610ffacc2b4e99fae6737bb82f5d7fb13d2f2c186"
  },
  "kernelspec": {
   "display_name": "Python 3 (ipykernel)",
   "language": "python",
   "name": "python3"
  },
  "language_info": {
   "codemirror_mode": {
    "name": "ipython",
    "version": 3
   },
   "file_extension": ".py",
   "mimetype": "text/x-python",
   "name": "python",
   "nbconvert_exporter": "python",
   "pygments_lexer": "ipython3",
   "version": "3.9.7"
  }
 },
 "nbformat": 4,
 "nbformat_minor": 2
}
